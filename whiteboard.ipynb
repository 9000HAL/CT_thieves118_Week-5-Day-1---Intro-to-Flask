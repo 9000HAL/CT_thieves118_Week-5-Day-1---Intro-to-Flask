{
 "cells": [
  {
   "cell_type": "code",
   "execution_count": 2,
   "metadata": {},
   "outputs": [
    {
     "name": "stdout",
     "output_type": "stream",
     "text": [
      "['ChRiStIaN', 'cHrIsTiAn']\n"
     ]
    }
   ],
   "source": [
    "\"\"\"\n",
    "\n",
    "\n",
    "Given a string, capitalize the letters that occupy even indexes and odd indexes separately, and return as shown below. Index 0 will be considered even.\n",
    "\n",
    "For example, capitalize(\"abcdef\") = ['AbCdEf', 'aBcDeF']. See test cases for more examples.\n",
    "\n",
    "The input will be a lowercase string with no spaces.\n",
    "\n",
    "Good luck!\n",
    "\n",
    "If you like this Kata, please try:\n",
    "\n",
    "\"\"\"\n",
    "\n",
    "# define func takes in string\n",
    "\n",
    "# list [evens, odds]\n",
    "\n",
    "\n",
    "\n",
    "\n",
    "\n",
    "# function to capitalize \n",
    "def capitalize(letters):\n",
    "\n",
    "    even = ''\n",
    "\n",
    "    odds = ''\n",
    "\n",
    "    for i in range(len(letters)): \n",
    "\n",
    "        if i % 2 == 0:\n",
    "            even += letters[i].upper()\n",
    "            odds += letters[i].lower()\n",
    "        \n",
    "        else:\n",
    "            even += letters[i].lower()\n",
    "            odds += letters[i].upper()\n",
    "            \n",
    "\n",
    "    return[even, odds]\n",
    "\n",
    "\n",
    "print(capitalize(\"Christian\"))\n",
    "\n",
    "\n",
    "\n",
    "\n",
    "\n",
    "\n",
    "\n",
    "\n"
   ]
  }
 ],
 "metadata": {
  "kernelspec": {
   "display_name": "Python 3.10.10 64-bit",
   "language": "python",
   "name": "python3"
  },
  "language_info": {
   "codemirror_mode": {
    "name": "ipython",
    "version": 3
   },
   "file_extension": ".py",
   "mimetype": "text/x-python",
   "name": "python",
   "nbconvert_exporter": "python",
   "pygments_lexer": "ipython3",
   "version": "3.10.10"
  },
  "orig_nbformat": 4,
  "vscode": {
   "interpreter": {
    "hash": "aee8b7b246df8f9039afb4144a1f6fd8d2ca17a180786b69acc140d282b71a49"
   }
  }
 },
 "nbformat": 4,
 "nbformat_minor": 2
}
