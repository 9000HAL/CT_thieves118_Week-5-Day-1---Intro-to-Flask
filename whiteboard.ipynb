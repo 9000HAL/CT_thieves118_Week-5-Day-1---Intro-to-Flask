{
 "cells": [
  {
   "cell_type": "code",
   "execution_count": 2,
   "metadata": {},
   "outputs": [
    {
     "name": "stdout",
     "output_type": "stream",
     "text": [
      "['ChRiStIaN', 'cHrIsTiAn']\n"
     ]
    }
   ],
   "source": [
    "\"\"\"\n",
    "\n",
    "\n",
    "Given a string, capitalize the letters that occupy even indexes and odd indexes separately, and return as shown below. Index 0 will be considered even.\n",
    "\n",
    "For example, capitalize(\"abcdef\") = ['AbCdEf', 'aBcDeF']. See test cases for more examples.\n",
    "\n",
    "The input will be a lowercase string with no spaces.\n",
    "\n",
    "Good luck!\n",
    "\n",
    "If you like this Kata, please try:\n",
    "\n",
    "\"\"\"\n",
    "\n",
    "# define func takes in string\n",
    "\n",
    "# list [evens, odds]\n",
    "\n",
    "\n",
    "\n",
    "\n",
    "\n",
    "# function to capitalize \n",
    "def capitalize(letters):\n",
    "\n",
    "    even = ''\n",
    "\n",
    "    odds = ''\n",
    "\n",
    "    for i in range(len(letters)): \n",
    "\n",
    "        if i % 2 == 0:\n",
    "            even += letters[i].upper()\n",
    "            odds += letters[i].lower()\n",
    "        \n",
    "        else:\n",
    "            even += letters[i].lower()\n",
    "            odds += letters[i].upper()\n",
    "            \n",
    "\n",
    "    return[even, odds]\n",
    "\n",
    "\n",
    "print(capitalize(\"Christian\"))\n",
    "\n",
    "\n",
    "\n",
    "\n",
    "\n",
    "\n",
    "\n",
    "\n"
   ]
  },
  {
   "cell_type": "code",
   "execution_count": 3,
   "metadata": {},
   "outputs": [
    {
     "name": "stdout",
     "output_type": "stream",
     "text": [
      "9\n"
     ]
    }
   ],
   "source": [
    "#WHITEBOARD WEDNESDAY-----------------------------\n",
    "\n",
    "\n",
    "# Its Halloween and all the kids just got home from trick-or-treating. \n",
    "# we have a list representing how much candy each child in our group has made out with. \n",
    "# We don't want the kids to start arguing, and we know trouble is brewing as many of the children \n",
    "# in the group have received different amounts of candy from each home.\n",
    "# So we want each child to have the same amount of candies, only we can't exactly take any candy away from the kids, \n",
    "# that would be even worse. \n",
    "# Instead we decide to give each child extra candy until they all have the same amount.\n",
    "\n",
    "# In the first case the most candies are given to second kid , 8. \n",
    "# Because of that we will give the first kid 3 so he can have 8 \n",
    "# and the third kid 2 \n",
    "# and the fourth kid 4, so all kids will have 8 candies.\n",
    "# So we end up handing out 3 + 2 + 4 = 9.\n",
    "\n",
    "# Examples:\n",
    "# input: [5,8,6,4]\n",
    "# output: 9\n",
    "# input: [1,2,4,6]\n",
    "# output: 11\n",
    "# Notes:\n",
    "# the length of the list of children will always be greater than one.\n",
    "\n",
    "\n",
    "\n",
    "\n",
    " \n",
    "input_ = [5,8,6,4]\n",
    "\n",
    "\n",
    "def solution(a_list):\n",
    "    maximum = max(a_list)\n",
    "    output_list = []\n",
    "    for i in range(len(a_list)):\n",
    "        if a_list[i] < maximum:\n",
    "            candy_added = maximum - a_list[i]\n",
    "            output_list.append(candy_added)\n",
    "    return sum(output_list)\n",
    "\n",
    "\n",
    "print(solution(input_))\n",
    "\n",
    "\n",
    "\n",
    "\n",
    "\n",
    "#UNIT TESTING NEXT: see notes etc\n",
    "\n",
    "\n",
    "#TIME COMPLEXITY? = \"LINEAR SOLUTION\"\n"
   ]
  }
 ],
 "metadata": {
  "kernelspec": {
   "display_name": "Python 3.10.10 64-bit",
   "language": "python",
   "name": "python3"
  },
  "language_info": {
   "codemirror_mode": {
    "name": "ipython",
    "version": 3
   },
   "file_extension": ".py",
   "mimetype": "text/x-python",
   "name": "python",
   "nbconvert_exporter": "python",
   "pygments_lexer": "ipython3",
   "version": "3.10.10"
  },
  "orig_nbformat": 4,
  "vscode": {
   "interpreter": {
    "hash": "aee8b7b246df8f9039afb4144a1f6fd8d2ca17a180786b69acc140d282b71a49"
   }
  }
 },
 "nbformat": 4,
 "nbformat_minor": 2
}
